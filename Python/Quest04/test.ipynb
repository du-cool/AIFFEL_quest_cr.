{
  "nbformat": 4,
  "nbformat_minor": 0,
  "metadata": {
    "colab": {
      "provenance": [],
      "include_colab_link": true
    },
    "kernelspec": {
      "name": "python3",
      "display_name": "Python 3"
    },
    "language_info": {
      "name": "python"
    }
  },
  "cells": [
    {
      "cell_type": "markdown",
      "metadata": {
        "id": "view-in-github",
        "colab_type": "text"
      },
      "source": [
        "<a href=\"https://colab.research.google.com/github/du-cool/AIFFEL_quest_cr./blob/main/Python/Quest04/test.ipynb\" target=\"_parent\"><img src=\"https://colab.research.google.com/assets/colab-badge.svg\" alt=\"Open In Colab\"/></a>"
      ]
    },
    {
      "cell_type": "markdown",
      "source": [
        "x - (+ - * /) 두개 정수\n",
        "\n",
        "정수가 아닐 때 - ValueError 잘못된 입력입니다. 정수를 입력해주세요\n",
        "\n",
        "x - 두번째 정수 0 - ZeroDivisionError 오류메시지\n",
        "\n",
        "연산자 오류 메시지\n",
        "\n",
        "x - math 모듈 제곱 ** 사용\n",
        "\n",
        "x -  계속 진행"
      ],
      "metadata": {
        "id": "cMBPczhJmmOf"
      }
    },
    {
      "cell_type": "code",
      "execution_count": 34,
      "metadata": {
        "id": "nymywweNispn",
        "colab": {
          "base_uri": "https://localhost:8080/",
          "height": 233
        },
        "outputId": "f47e2f9f-46e8-49e7-9b4e-99740a41af7d"
      },
      "outputs": [
        {
          "name": "stdout",
          "output_type": "stream",
          "text": [
            "정수를 입력하세요 => 2 r\n"
          ]
        },
        {
          "output_type": "error",
          "ename": "ValueError",
          "evalue": "invalid literal for int() with base 10: 'r'",
          "traceback": [
            "\u001b[0;31m---------------------------------------------------------------------------\u001b[0m",
            "\u001b[0;31mValueError\u001b[0m                                Traceback (most recent call last)",
            "\u001b[0;32m<ipython-input-34-55564b437c7f>\u001b[0m in \u001b[0;36m<cell line: 22>\u001b[0;34m()\u001b[0m\n\u001b[1;32m     21\u001b[0m \u001b[0;34m\u001b[0m\u001b[0m\n\u001b[1;32m     22\u001b[0m \u001b[0;32mwhile\u001b[0m \u001b[0;32mTrue\u001b[0m\u001b[0;34m:\u001b[0m\u001b[0;34m\u001b[0m\u001b[0;34m\u001b[0m\u001b[0m\n\u001b[0;32m---> 23\u001b[0;31m     \u001b[0mone\u001b[0m\u001b[0;34m,\u001b[0m \u001b[0mtwo\u001b[0m \u001b[0;34m=\u001b[0m \u001b[0mmap\u001b[0m\u001b[0;34m(\u001b[0m\u001b[0mint\u001b[0m\u001b[0;34m,\u001b[0m \u001b[0minput\u001b[0m\u001b[0;34m(\u001b[0m\u001b[0;34m'정수를 입력하세요 => '\u001b[0m\u001b[0;34m)\u001b[0m\u001b[0;34m.\u001b[0m\u001b[0msplit\u001b[0m\u001b[0;34m(\u001b[0m\u001b[0;34m' '\u001b[0m\u001b[0;34m)\u001b[0m\u001b[0;34m)\u001b[0m\u001b[0;34m\u001b[0m\u001b[0;34m\u001b[0m\u001b[0m\n\u001b[0m\u001b[1;32m     24\u001b[0m     \u001b[0;31m# print(one)\u001b[0m\u001b[0;34m\u001b[0m\u001b[0;34m\u001b[0m\u001b[0m\n\u001b[1;32m     25\u001b[0m     \u001b[0;31m# print(two)\u001b[0m\u001b[0;34m\u001b[0m\u001b[0;34m\u001b[0m\u001b[0m\n",
            "\u001b[0;31mValueError\u001b[0m: invalid literal for int() with base 10: 'r'"
          ]
        }
      ],
      "source": [
        "#\n",
        "import math\n",
        "\n",
        "\n",
        "def calc_plus(one, two):\n",
        "    return one + two\n",
        "\n",
        "def calc_minus(one, two):\n",
        "    return one - two\n",
        "\n",
        "def calc_mul(one, two):\n",
        "    return one * two\n",
        "\n",
        "def calc_div(one, two):\n",
        "    try:\n",
        "      return one / two\n",
        "    # 나눗셈 연산 시 두 번째 정수가 0인 경우\n",
        "    except ZeroDivisionError:\n",
        "      return \"0으로 나눌 수 없습니다.\"\n",
        "\n",
        "def calc_pow(one, two):\n",
        "    return math.pow(one, two)\n",
        "\n",
        "# 정수 입력 받기\n",
        "one, two = map(int, input('정수를 입력하세요 => ').split(' '))\n",
        "# print(one)\n",
        "# print(two)\n",
        "oper = input('연산자를 입력하세요 (+, -, *, /, **) => ')\n",
        "# print(oper)\n",
        "\n",
        "if oper == '+':\n",
        "    print(f'{one} {oper} {two} = {calc_plus(one, two)}')\n",
        "elif oper == '-':\n",
        "    print(f'{one} {oper} {two} = {calc_minus(one, two)}')\n",
        "elif oper == '*':\n",
        "    print(f'{one} {oper} {two} = {calc_mul(one, two)}')\n",
        "elif oper == '/':\n",
        "    print(f'{one} {oper} {two} = {calc_div(one, two)}')\n",
        "elif oper == '**':\n",
        "    print(f'{one} {oper} {two} = {calc_pow(one, two)}')\n",
        "\n",
        "\n",
        "def get_integer_input(prompt):\n",
        "    while True:\n",
        "        user_input = input(prompt)\n",
        "        try:\n",
        "            # 입력값을 정수로 변환 시도\n",
        "            return int(user_input)\n",
        "        except ValueError:\n",
        "            # 정수로 변환할 수 없으면 오류 메시지 출력\n",
        "            print(\"잘못된 입력입니다. 정수를 입력해주세요.\")\n",
        "\n",
        "# 사용 예시\n",
        "number = get_integer_input(\"정수를 입력하세요: \")\n",
        "print(f\"입력한 정수는 {number}입니다.\")\n",
        "try:\n",
        "    if one.isdigit() and two.isdigit():\n",
        "        one = int(one)\n",
        "        two = int(two)\n",
        "except ValueError:\n",
        "    print('잘못된 입력입니다. 정수를 입력해주세요')\n",
        "\n",
        "\n",
        "# while input('계속 하시려면 y 을 입력 하세요 => ') == 'y':\n",
        "#     print('ggg')\n"
      ]
    },
    {
      "cell_type": "code",
      "source": [
        "정성욱 - 예외처리를 더 공부해야 겠다\n",
        "김동의 - 전체적으로 빠진 부분에 대해서 복습해야 겠다"
      ],
      "metadata": {
        "id": "lmtR-Gfx-9-r"
      },
      "execution_count": null,
      "outputs": []
    },
    {
      "cell_type": "code",
      "source": [],
      "metadata": {
        "id": "EmYchuv3pRnq"
      },
      "execution_count": null,
      "outputs": []
    }
  ]
}